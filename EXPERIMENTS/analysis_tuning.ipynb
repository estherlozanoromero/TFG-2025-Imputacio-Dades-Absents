{
 "cells": [
  {
   "cell_type": "markdown",
   "id": "0157f692",
   "metadata": {},
   "source": [
    "# Anàlisis dels paràmetres de l’algorisme PSO per a la imputació de dades\n",
    "Aquest notebook està dedicat a l’estudi dels paràmetres de l’algorisme Particle Swarm Optimization (PSO) aplicat a la imputació de valors absents. S’hi exploren diferents combinacions de paràmetres per tal de trobar la configuració òptima que maximitzi el rendiment de l’algorisme, avaluant resultats mitjançant mètriques com el fitness i el temps d’execució."
   ]
  },
  {
   "cell_type": "code",
   "execution_count": null,
   "id": "cae8e064",
   "metadata": {},
   "outputs": [],
   "source": [
    "import warnings\n",
    "warnings.filterwarnings('ignore')\n",
    "\n",
    "import pandas as pd\n",
    "import seaborn as sns\n",
    "import matplotlib.pyplot as plt\n",
    "import os"
   ]
  },
  {
   "cell_type": "code",
   "execution_count": null,
   "id": "db087463",
   "metadata": {},
   "outputs": [],
   "source": [
    "df_small = pd.read_excel('TuningResults.xlsx', sheet_name='DatasetSmall')\n",
    "df_medium = pd.read_excel('TuningResults.xlsx', sheet_name='DatasetMedium')\n",
    "df_big = pd.read_excel('TuningResults.xlsx', sheet_name='DatasetBig')\n",
    "\n",
    "df_small['dataset_size'] = 'Dataset A'\n",
    "df_medium['dataset_size'] = 'Dataset B'\n",
    "df_big['dataset_size'] = 'Dataset C'\n",
    "\n",
    "changes = {\n",
    "    'MeanRandom': 'Híbrid',\n",
    "    'Random': 'Aleatòria',\n",
    "    'BoundedRandom': 'Acotada'\n",
    "}\n",
    "\n",
    "df_small['init_name'] = df_small['init_name'].replace(changes)\n",
    "df_medium['init_name'] = df_medium['init_name'].replace(changes)\n",
    "df_big['init_name'] = df_big['init_name'].replace(changes)\n",
    "\n",
    "df_all = pd.concat([df_small, df_medium, df_big], ignore_index=True)\n",
    "\n",
    "grouped = df_all.groupby(['init_name', 'dataset_size'])['fitness'].mean().reset_index()"
   ]
  },
  {
   "cell_type": "code",
   "execution_count": null,
   "id": "89720875",
   "metadata": {},
   "outputs": [],
   "source": [
    "os.mkdir('figures')"
   ]
  },
  {
   "cell_type": "code",
   "execution_count": null,
   "id": "0f0ad0ff",
   "metadata": {},
   "outputs": [],
   "source": [
    "plt.figure(figsize=(10, 6))\n",
    "sns.barplot(data=grouped, x='init_name', y='fitness', hue='dataset_size', palette='Set2')\n",
    "plt.title('Fitness Mitjà per Tipus d\\'Inicialització i Mida de Dataset')\n",
    "plt.xlabel('Tipus d\\'Inicialització')\n",
    "plt.ylabel('Fitness Mitjà')\n",
    "plt.legend(title='Mida del Dataset')\n",
    "plt.savefig(\"figures/barplot_fitness_mitjà_vs_tipus_ini_dataset_all.png\")\n",
    "plt.tight_layout()\n",
    "plt.show()"
   ]
  },
  {
   "cell_type": "code",
   "execution_count": null,
   "id": "b110ed23",
   "metadata": {},
   "outputs": [],
   "source": [
    "plt.figure(figsize=(8, 5))\n",
    "sns.scatterplot(data=df_small, x='initial_fitness', y='fitness', hue='init_name', palette='Dark2')\n",
    "plt.title('Fitness Inicial vs Fitness Final (Dataset A)')\n",
    "plt.xlabel('Fitness Inicial')\n",
    "plt.ylabel('Fitness Final')\n",
    "plt.grid(True)\n",
    "plt.tight_layout()\n",
    "plt.savefig(\"figures/scatter_fitness_final_vs_fitness_ini_dataset_small.png\")\n",
    "plt.show()"
   ]
  },
  {
   "cell_type": "code",
   "execution_count": null,
   "id": "430b9079",
   "metadata": {},
   "outputs": [],
   "source": [
    "\n",
    "plt.figure(figsize=(8, 5))\n",
    "sns.boxplot(data=df_small, x='init_name', y='fitness', palette='Set2')\n",
    "plt.title('Distribució del Fitness per Inicialització (Dataset A)')\n",
    "plt.xlabel('Inicialització')\n",
    "plt.ylabel('Fitness')\n",
    "plt.tight_layout()\n",
    "plt.savefig(\"figures/boxplot_fitness_small.png\")\n",
    "plt.show()"
   ]
  },
  {
   "cell_type": "code",
   "execution_count": null,
   "id": "1927e657",
   "metadata": {},
   "outputs": [],
   "source": [
    "plt.figure(figsize=(8, 5))\n",
    "sns.violinplot(data=df_small, x='init_name', y='fitness', palette='Set2', inner='box')\n",
    "plt.title('Densitat del Fitness per Inicialització (Dataset A)')\n",
    "plt.xlabel('Inicialització')\n",
    "plt.ylabel('Fitness')\n",
    "plt.tight_layout()\n",
    "plt.savefig(\"figures/violin_fitness_small.png\")\n",
    "plt.show()"
   ]
  },
  {
   "cell_type": "code",
   "execution_count": null,
   "id": "db7eabdb",
   "metadata": {},
   "outputs": [],
   "source": [
    "grouped = df_small.groupby('particles')['fitness'].mean().reset_index()\n",
    "\n",
    "plt.figure(figsize=(6, 4))\n",
    "sns.lineplot(data=grouped, x='particles', y='fitness', marker='o')\n",
    "plt.title('Fitness Mitjà segons Partícules (Dataset A)')\n",
    "plt.xlabel('Partícules')\n",
    "plt.ylabel('Fitness')\n",
    "plt.grid(True)\n",
    "plt.tight_layout()\n",
    "plt.savefig(\"figures/lineplot_particles_small.png\")\n",
    "plt.show()"
   ]
  },
  {
   "cell_type": "code",
   "execution_count": null,
   "id": "67911315",
   "metadata": {},
   "outputs": [],
   "source": [
    "grouped = df_small.groupby('iterations')['fitness'].mean().reset_index()\n",
    "\n",
    "plt.figure(figsize=(6, 4))\n",
    "sns.lineplot(data=grouped, x='iterations', y='fitness', marker='o')\n",
    "plt.title('Fitness Mitjà segons Iteracions (Dataset A)')\n",
    "plt.xlabel('Iteracions')\n",
    "plt.ylabel('Fitness')\n",
    "plt.grid(True)\n",
    "plt.tight_layout()\n",
    "plt.savefig(\"figures/lineplot_iterations_small.png\")\n",
    "plt.show()"
   ]
  },
  {
   "cell_type": "code",
   "execution_count": null,
   "id": "e8785241",
   "metadata": {},
   "outputs": [],
   "source": [
    "grouped = df_small.groupby('w')['fitness'].mean().reset_index()\n",
    "\n",
    "plt.figure(figsize=(6, 4))\n",
    "sns.lineplot(data=grouped, x='w', y='fitness', marker='o')\n",
    "plt.title('Fitness Mitjà segons Pes d\\'Inèrcia (w) (Dataset A)')\n",
    "plt.xlabel('Pes d\\'inèrcia (w)')\n",
    "plt.ylabel('Fitness')\n",
    "plt.grid(True)\n",
    "plt.tight_layout()\n",
    "plt.savefig(\"figures/lineplot_w_small.png\")\n",
    "plt.show()\n"
   ]
  },
  {
   "cell_type": "code",
   "execution_count": null,
   "id": "21824073",
   "metadata": {},
   "outputs": [],
   "source": [
    "grouped = df_small.groupby('velocity_ratio')['fitness'].mean().reset_index()\n",
    "\n",
    "plt.figure(figsize=(6, 4))\n",
    "sns.lineplot(data=grouped, x='velocity_ratio', y='fitness', marker='o')\n",
    "plt.title('Fitness Mitjà segons Velocity Ratio (Dataset A)')\n",
    "plt.xlabel('Velocity Ratio')\n",
    "plt.ylabel('Fitness')\n",
    "plt.grid(True)\n",
    "plt.tight_layout()\n",
    "plt.savefig(\"figures/lineplot_velocity_ratio_small.png\")\n",
    "plt.show()\n"
   ]
  },
  {
   "cell_type": "code",
   "execution_count": null,
   "id": "20bf942e",
   "metadata": {},
   "outputs": [],
   "source": [
    "pivot = df_small.pivot_table(index='particles', columns='iterations', values='fitness', aggfunc='mean')\n",
    "\n",
    "plt.figure(figsize=(8, 6))\n",
    "sns.heatmap(pivot, annot=True, fmt=\".4f\", cmap='YlGnBu')\n",
    "plt.title('Heatmap de Fitness Mitjà (Partícules × Iteracions)')\n",
    "plt.xlabel('Iteracions')\n",
    "plt.ylabel('Partícules')\n",
    "plt.tight_layout()\n",
    "plt.savefig(\"figures/heatmap_particles_iterations_small.png\")\n",
    "plt.show()\n"
   ]
  },
  {
   "cell_type": "code",
   "execution_count": null,
   "id": "49cd7666",
   "metadata": {},
   "outputs": [],
   "source": [
    "\n",
    "\n",
    "df_all = pd.concat([df_small, df_medium, df_big], ignore_index=True)\n",
    "\n",
    "grouped_time = df_all.groupby(['init_name', 'dataset_size'])['time_sec'].mean().reset_index()\n",
    "\n",
    "plt.figure(figsize=(8, 5))\n",
    "sns.barplot(data=grouped_time, x='init_name', y='time_sec', hue='dataset_size', palette='Set3')\n",
    "plt.title('Temps mitjà per Inicialització i Mida del Dataset')\n",
    "plt.xlabel('Inicialització')\n",
    "plt.ylabel('Temps (segons)')\n",
    "plt.tight_layout()\n",
    "plt.savefig(\"figures/barplot_time_init_datasets.png\")\n",
    "plt.show()"
   ]
  },
  {
   "cell_type": "code",
   "execution_count": null,
   "id": "a543e442",
   "metadata": {},
   "outputs": [],
   "source": [
    "plt.figure(figsize=(8, 5))\n",
    "sns.barplot(data=grouped_time, x='init_name', y='time_sec', hue='dataset_size', palette='Set3')\n",
    "plt.yscale('log')\n",
    "plt.title('Temps mitjà (escala log) per Inicialització i Mida del Dataset')\n",
    "plt.xlabel('Inicialització')\n",
    "plt.ylabel('Temps (log segons)')\n",
    "plt.tight_layout()\n",
    "plt.savefig(\"figures/barplot_time_init_datasets_log.png\")\n",
    "plt.show()"
   ]
  },
  {
   "cell_type": "code",
   "execution_count": null,
   "id": "21efbde5",
   "metadata": {},
   "outputs": [],
   "source": [
    "plt.figure(figsize=(6, 4))\n",
    "sns.boxplot(data=df_small, x='init_name', y='time_sec', palette='Set2', showfliers=False)\n",
    "plt.title('Distribució del Temps (Dataset A)')\n",
    "plt.xlabel('Inicialització')\n",
    "plt.ylabel('Temps (s)')\n",
    "plt.tight_layout()\n",
    "plt.savefig(\"figures/boxplot_time_small.png\")\n",
    "plt.show()"
   ]
  },
  {
   "cell_type": "code",
   "execution_count": null,
   "id": "e462ab07",
   "metadata": {},
   "outputs": [],
   "source": [
    "df_medium['time_hr'] = df_medium['time_sec'] / 3600\n",
    "\n",
    "plt.figure(figsize=(6, 4))\n",
    "sns.boxplot(data=df_medium, x='init_name', y='time_hr', palette='Set2', showfliers=False)\n",
    "plt.title('Distribució del Temps (Dataset B)')\n",
    "plt.xlabel('Inicialització')\n",
    "plt.ylabel('Temps (h)')\n",
    "plt.tight_layout()\n",
    "plt.savefig(\"figures/boxplot_time_medium.png\")\n",
    "plt.show()"
   ]
  },
  {
   "cell_type": "code",
   "execution_count": null,
   "id": "05aa0307",
   "metadata": {},
   "outputs": [],
   "source": [
    "df_big['time_hr'] = df_big['time_sec'] / 3600\n",
    "\n",
    "plt.figure(figsize=(6, 4))\n",
    "sns.boxplot(data=df_big, x='init_name', y='time_hr', palette='Set2', showfliers=False)\n",
    "plt.title('Distribució del Temps (Dataset C)')\n",
    "plt.xlabel('Inicialització')\n",
    "plt.ylabel('Temps (h)')\n",
    "plt.tight_layout()\n",
    "plt.savefig(\"figures/boxplot_time_big.png\")\n",
    "plt.show()\n"
   ]
  },
  {
   "cell_type": "code",
   "execution_count": null,
   "id": "e894580c",
   "metadata": {},
   "outputs": [],
   "source": [
    "plt.figure(figsize=(8, 5))\n",
    "sns.scatterplot(data=df_all, x='time_sec', y='fitness', hue='dataset_size', style='init_name', palette='Dark2')\n",
    "plt.title('Temps d\\'Execució vs Fitness per Dataset i Inicialització')\n",
    "plt.xlabel('Temps (s)')\n",
    "plt.ylabel('Fitness')\n",
    "plt.grid(True)\n",
    "plt.tight_layout()\n",
    "plt.savefig(\"figures/scatter_time_vs_fitness_all_datasets.png\")\n",
    "plt.show()"
   ]
  },
  {
   "cell_type": "code",
   "execution_count": null,
   "id": "94107f7d",
   "metadata": {},
   "outputs": [],
   "source": [
    "plt.figure(figsize=(8, 5))\n",
    "sns.scatterplot(data=df_all, x='time_sec', y='fitness', hue='dataset_size', style='init_name', palette='Dark2')\n",
    "plt.xscale('log')\n",
    "plt.title('Temps vs Fitness amb escala log (tots els datasets)')\n",
    "plt.xlabel('Temps (log segons)')\n",
    "plt.ylabel('Fitness')\n",
    "plt.tight_layout()\n",
    "plt.savefig(\"figures/scatter_time_vs_fitness_all_datasets_logx.png\")\n",
    "plt.show()"
   ]
  },
  {
   "cell_type": "code",
   "execution_count": null,
   "id": "c8328de4",
   "metadata": {},
   "outputs": [],
   "source": [
    "for dset, name in zip([df_small, df_medium, df_big], ['Dataset A', 'Dataset B', 'Dataset C']):\n",
    "    plt.figure(figsize=(6, 4))\n",
    "    sns.scatterplot(data=dset, x='time_sec', y='fitness', hue='init_name', palette='Dark2')\n",
    "    plt.title(f'Temps vs Fitness ({name})')\n",
    "    plt.xlabel('Temps (segons)')\n",
    "    plt.ylabel('Fitness')\n",
    "    plt.tight_layout()\n",
    "    plt.savefig(f\"figures/scatter_time_vs_fitness_{name.replace(' ', '_').lower()}.png\")\n",
    "    plt.show()\n"
   ]
  },
  {
   "cell_type": "code",
   "execution_count": null,
   "id": "86d7e5bb",
   "metadata": {},
   "outputs": [],
   "source": [
    "df_ratio = df_small[df_small['init_name'] == 'Híbrid']\n",
    "\n",
    "df_ratio_grouped = df_ratio.groupby('ratio')['fitness'].mean().reset_index()\n",
    "\n",
    "plt.figure(figsize=(6, 4))\n",
    "sns.lineplot(data=df_ratio_grouped, x='ratio', y='fitness', marker='o')\n",
    "plt.title(\"Fitness mitjà segons la ràtio d’aleatorietat\")\n",
    "plt.xlabel(\"Ràtio d’aleatorietat\")\n",
    "plt.ylabel(\"Fitness mitjà final\")\n",
    "plt.grid(True)\n",
    "plt.tight_layout()\n",
    "plt.savefig(\"figures/lineplot_fitness_vs_ratio_small.png\")\n",
    "plt.show()"
   ]
  }
 ],
 "metadata": {
  "kernelspec": {
   "display_name": "base",
   "language": "python",
   "name": "python3"
  },
  "language_info": {
   "codemirror_mode": {
    "name": "ipython",
    "version": 3
   },
   "file_extension": ".py",
   "mimetype": "text/x-python",
   "name": "python",
   "nbconvert_exporter": "python",
   "pygments_lexer": "ipython3",
   "version": "3.11.4"
  }
 },
 "nbformat": 4,
 "nbformat_minor": 5
}
