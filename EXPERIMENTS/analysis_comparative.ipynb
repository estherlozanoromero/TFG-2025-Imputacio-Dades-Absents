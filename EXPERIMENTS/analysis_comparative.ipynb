{
 "cells": [
  {
   "cell_type": "markdown",
   "id": "51dcd7e9",
   "metadata": {},
   "source": [
    "# Anàlisi comparativa d'algorismes d'imputació: PSO, MICE i KNN\n",
    "Aquest notebook està creat per poder generar gràfics i fer un anàlisi exhaustiva dels resultats obtinguts amb l'algorisme d'imputació Particle Swarm Optimization (PSO), fent una comparació amb dos algorismes: MICE i KNN. S'avalua el rendiment de cada mètode en diferents conjunts de dades de diverses mides, utilitzant mètriques com el fitness i el temps d'execució. L'objectiu és identificar quin algorisme ofereix millors resultats segons el context i la mida del conjunt de dades."
   ]
  },
  {
   "cell_type": "code",
   "execution_count": null,
   "id": "f9a98a7f",
   "metadata": {},
   "outputs": [],
   "source": [
    "import warnings\n",
    "warnings.filterwarnings('ignore')\n",
    "\n",
    "import matplotlib.pyplot as plt\n",
    "import seaborn as sns\n",
    "import pandas as pd\n",
    "import os"
   ]
  },
  {
   "cell_type": "code",
   "execution_count": null,
   "id": "41a4be02",
   "metadata": {},
   "outputs": [],
   "source": [
    "files = {\n",
    "    'PSO': {\n",
    "        'small': 'PSOResultsSmall.xlsx',\n",
    "        'medium': 'PSOResultsMedium.xlsx',\n",
    "        'big': 'PSOResultsBig.xlsx',\n",
    "    },\n",
    "    'KNN': {\n",
    "        'small': 'KNNResultsSmall.xlsx',\n",
    "        'medium': 'KNNResultsMedium.xlsx',\n",
    "        'big': 'KNNResultsBig.xlsx',\n",
    "    },\n",
    "    'MICE': {\n",
    "        'small': 'MICEResultsSmall.xlsx',\n",
    "        'medium': 'MICEResultsMedium.xlsx',\n",
    "        'big': 'MICEResultsBig.xlsx',\n",
    "    }\n",
    "}\n",
    "\n",
    "dataframes = {}\n",
    "for method, sizes in files.items():\n",
    "    dataframes[method] = {}\n",
    "    for size, path in sizes.items():\n",
    "        xls = pd.ExcelFile(path)\n",
    "        sheet_names = xls.sheet_names[:5]\n",
    "        dfs = [xls.parse(sheet) for sheet in sheet_names]\n",
    "        dataframes[method][size] = dfs"
   ]
  },
  {
   "cell_type": "code",
   "execution_count": null,
   "id": "8288b124",
   "metadata": {},
   "outputs": [],
   "source": [
    "\n",
    "def normalize_dataframe(df_list, method_name):\n",
    "    all_rows = []\n",
    "    for df in df_list:\n",
    "        df = df.copy()\n",
    "        df['method'] = method_name\n",
    "        df.rename(columns={'small': 'dataset'}, inplace=True) \n",
    "        all_rows.append(df[['dataset', 'rows', 'columns', 'missing_percent', 'time_sec', 'fitness', 'method']])\n",
    "    return pd.concat(all_rows, ignore_index=True)\n",
    "\n",
    "normalized_dfs = []\n",
    "for method in ['PSO', 'KNN', 'MICE']:\n",
    "    for size in ['small', 'medium', 'big']:\n",
    "        df = normalize_dataframe(dataframes[method][size], method_name=method)\n",
    "        df['size'] = size\n",
    "        normalized_dfs.append(df)\n",
    "\n",
    "df_all = pd.concat(normalized_dfs, ignore_index=True)\n",
    "\n",
    "dataset_map = {\n",
    "    'test_0_rows_500_columns_20_comp_0.5_input_': 'Petit A',\n",
    "    'test_0_rows_500_columns_20_comp_0.4_input_': 'Petit B',\n",
    "    'test_0_rows_500_columns_20_comp_0.3_input_': 'Petit C',\n",
    "    'test_0_rows_500_columns_20_comp_0.2_input_': 'Petit D',\n",
    "    'test_0_rows_500_columns_100_comp_0.5_input_': 'Petit E',\n",
    "    'test_0_rows_500_columns_100_comp_0.4_input_': 'Petit F',\n",
    "    'test_0_rows_500_columns_100_comp_0.3_input_': 'Petit G',\n",
    "    'test_0_rows_500_columns_100_comp_0.2_input_': 'Petit H',\n",
    "    'test_0_rows_1000_columns_500_comp_0.5_input_': 'Mitjà J',\n",
    "    'test_0_rows_1000_columns_500_comp_0.4_input_': 'Mitjà K',\n",
    "    'test_0_rows_5000_columns_500_comp_0.5_input_': 'Gran L',\n",
    "    'test_0_rows_5000_columns_500_comp_0.3_input_': 'Gran M',\n",
    "}\n",
    "\n",
    "df_all['dataset_name'] = df_all['dataset'].map(dataset_map)\n",
    "\n",
    "summary = df_all.groupby(['dataset_name', 'method']).agg(\n",
    "    fitness_mean=('fitness', 'mean'),\n",
    "    fitness_std=('fitness', 'std'),\n",
    "    time_mean=('time_sec', 'mean'),\n",
    "    time_std=('time_sec', 'std')\n",
    ").reset_index()"
   ]
  },
  {
   "cell_type": "code",
   "execution_count": null,
   "id": "14a720bc",
   "metadata": {},
   "outputs": [],
   "source": [
    "os.mkdir('figures')"
   ]
  },
  {
   "cell_type": "code",
   "execution_count": null,
   "id": "26fcae20",
   "metadata": {},
   "outputs": [],
   "source": [
    "def plot_grouped_bar_by_size(df_subset, metric_column, ylabel, title_prefix, filename):\n",
    "    datasets = df_subset['dataset_name'].unique()\n",
    "    methods = ['PSO', 'KNN', 'MICE']\n",
    "    bar_width = 0.25\n",
    "    x = range(len(datasets))\n",
    "\n",
    "    plt.figure(figsize=(10, 6))\n",
    "    for idx, method in enumerate(methods):\n",
    "        subset = df_subset[df_subset['method'] == method]\n",
    "        heights = subset[metric_column]\n",
    "        positions = [p + bar_width * idx for p in x]\n",
    "        plt.bar(positions, heights, width=bar_width, label=method)\n",
    "\n",
    "    plt.xlabel('Dataset')\n",
    "    plt.ylabel(ylabel)\n",
    "    plt.title(f'{title_prefix}: Comparació per Mètode')\n",
    "    plt.xticks([p + bar_width for p in x], datasets, rotation=45)\n",
    "    plt.legend()\n",
    "    plt.grid(axis='y')\n",
    "    plt.tight_layout()\n",
    "    plt.savefig(f\"figures/{filename}\", dpi=300, bbox_inches=\"tight\")\n",
    "    plt.show()"
   ]
  },
  {
   "cell_type": "code",
   "execution_count": null,
   "id": "47b582aa",
   "metadata": {},
   "outputs": [],
   "source": [
    "df_petit = summary[summary['dataset_name'].str.contains(\"Petit\")]\n",
    "df_mitja = summary[summary['dataset_name'].str.contains(\"Mitjà\")]\n",
    "df_gran = summary[summary['dataset_name'].str.contains(\"Gran\")]"
   ]
  },
  {
   "cell_type": "code",
   "execution_count": null,
   "id": "2c1ea270",
   "metadata": {},
   "outputs": [],
   "source": [
    "plot_grouped_bar_by_size(df_petit, 'fitness_mean', 'Fitness mitjà', 'Conjunts Petits',\n",
    "                         'barplot_fitness_mean_per_method_dataset_petit.png')\n",
    "plot_grouped_bar_by_size(df_mitja, 'fitness_mean', 'Fitness mitjà', 'Conjunts Mitjans',\n",
    "                         'barplot_fitness_mean_per_method_dataset_mitja.png')\n",
    "plot_grouped_bar_by_size(df_gran, 'fitness_mean', 'Fitness mitjà', 'Conjunts Grans',\n",
    "                         'barplot_fitness_mean_per_method_dataset_gran.png')"
   ]
  },
  {
   "cell_type": "code",
   "execution_count": null,
   "id": "074c5f1a",
   "metadata": {},
   "outputs": [],
   "source": [
    "plot_grouped_bar_by_size(df_petit, 'time_mean', 'Temps d’execució mitjà (s)', 'Conjunts Petits',\n",
    "                         'barplot_time_mean_per_method_dataset_petit.png')\n",
    "plot_grouped_bar_by_size(df_mitja, 'time_mean', 'Temps d’execució mitjà (s)', 'Conjunts Mitjans',\n",
    "                         'barplot_time_mean_per_method_dataset_mitja.png')\n",
    "plot_grouped_bar_by_size(df_gran, 'time_mean', 'Temps d’execució mitjà (s)', 'Conjunts Grans',\n",
    "                         'barplot_time_mean_per_method_dataset_gran.png')\n"
   ]
  },
  {
   "cell_type": "code",
   "execution_count": null,
   "id": "f6c07c85",
   "metadata": {},
   "outputs": [],
   "source": [
    "plot_grouped_bar_by_size(summary, 'fitness_mean', 'Fitness mitjà', 'Tots els conjunts',\n",
    "                         'barplot_fitness_mean_per_method_dataset.png')\n",
    "\n",
    "plot_grouped_bar_by_size(summary, 'time_mean', 'Temps mitjà d’execució (s)', 'Tots els conjunts',\n",
    "                         'barplot_time_mean_per_method_dataset.png')"
   ]
  },
  {
   "cell_type": "code",
   "execution_count": null,
   "id": "3104fc5f",
   "metadata": {},
   "outputs": [],
   "source": [
    "def classify_size(row):\n",
    "    if 'Gran' in row['dataset_name']:\n",
    "        return 'Gran'\n",
    "    elif 'Mitjà' in row['dataset_name']:\n",
    "        return 'Mitjà'\n",
    "    elif 'Petit' in row['dataset_name']:\n",
    "        return 'Petit'\n",
    "    else:\n",
    "        return 'Altres'\n",
    "\n",
    "df_all['dataset_name'] = df_all['dataset'].map(dataset_map)\n",
    "df_all = df_all[df_all['dataset_name'].notna()]\n",
    "df_all['size_group'] = df_all.apply(classify_size, axis=1)"
   ]
  },
  {
   "cell_type": "code",
   "execution_count": null,
   "id": "49a2171a",
   "metadata": {},
   "outputs": [],
   "source": [
    "for size_group in ['Petit', 'Mitjà', 'Gran']:\n",
    "    plt.figure(figsize=(10, 6))\n",
    "    subset = df_all[df_all['size_group'] == size_group]\n",
    "    sns.boxplot(data=subset, x='method', y='fitness')\n",
    "    plt.title(f'{size_group}: Distribució del Fitness per Mètode')\n",
    "    plt.xlabel('Mètode d’imputació')\n",
    "    plt.ylabel('Fitness')\n",
    "    plt.grid(axis='y')\n",
    "    plt.tight_layout()\n",
    "    plt.savefig(f\"figures/boxplot_fitness_{size_group.lower()}.png\", dpi=300, bbox_inches=\"tight\")\n",
    "    plt.show()"
   ]
  },
  {
   "cell_type": "code",
   "execution_count": null,
   "id": "1a18aaf6",
   "metadata": {},
   "outputs": [],
   "source": [
    "for size_group in ['Petit', 'Mitjà', 'Gran']:\n",
    "    plt.figure(figsize=(10, 6))\n",
    "    subset = df_all[df_all['size_group'] == size_group]\n",
    "    sns.scatterplot(data=subset, x='time_sec', y='fitness', hue='method', style='method')\n",
    "    plt.title(f'{size_group}: Temps vs Fitness per Mètode')\n",
    "    plt.xlabel('Temps d’execució (s)')\n",
    "    plt.ylabel('Fitness')\n",
    "    plt.grid(True)\n",
    "    plt.tight_layout()\n",
    "    plt.savefig(f\"figures/scatter_time_vs_fitness_{size_group.lower()}.png\", dpi=300, bbox_inches=\"tight\")\n",
    "    plt.show()\n"
   ]
  },
  {
   "cell_type": "code",
   "execution_count": null,
   "id": "c70f570f",
   "metadata": {},
   "outputs": [],
   "source": [
    "def plot_bar_with_error_robust(df_subset, value_col, std_col, ylabel, title_prefix, filename):\n",
    "    df_subset = df_subset[df_subset[std_col].notna()]\n",
    "    datasets = df_subset['dataset_name'].unique()\n",
    "    methods = ['PSO', 'KNN', 'MICE']\n",
    "    bar_width = 0.25\n",
    "    x = range(len(datasets))\n",
    "\n",
    "    plt.figure(figsize=(10, 6))\n",
    "    for idx, method in enumerate(methods):\n",
    "        subset = df_subset[df_subset['method'] == method]\n",
    "        if subset.empty:\n",
    "            continue\n",
    "        heights = subset[value_col].values\n",
    "        stds = subset[std_col].values\n",
    "        positions = [p + bar_width * idx for p in range(len(subset))]\n",
    "        plt.bar(positions, heights, yerr=stds, width=bar_width, capsize=5, label=method)\n",
    "\n",
    "    plt.xlabel('Dataset')\n",
    "    plt.ylabel(ylabel)\n",
    "    plt.title(f'{title_prefix}: Mitjana ± Desviació Estàndard')\n",
    "    plt.xticks([p + bar_width for p in range(len(datasets))], datasets, rotation=45)\n",
    "    plt.legend()\n",
    "    plt.grid(axis='y')\n",
    "    plt.tight_layout()\n",
    "    plt.savefig(f\"figures/{filename}\", dpi=300, bbox_inches=\"tight\")\n",
    "    plt.show()"
   ]
  },
  {
   "cell_type": "code",
   "execution_count": null,
   "id": "976fe573",
   "metadata": {},
   "outputs": [],
   "source": [
    "plot_bar_with_error_robust(df_petit, 'fitness_mean', 'fitness_std', 'Fitness', 'Conjunts Petits',\n",
    "                           'barplot_fitness_errorbars_petit.png')\n",
    "plot_bar_with_error_robust(df_mitja, 'fitness_mean', 'fitness_std', 'Fitness', 'Conjunts Mitjans',\n",
    "                           'barplot_fitness_errorbars_mitja.png')\n",
    "plot_bar_with_error_robust(df_gran, 'fitness_mean', 'fitness_std', 'Fitness', 'Conjunts Grans',\n",
    "                           'barplot_fitness_errorbars_gran.png')"
   ]
  },
  {
   "cell_type": "code",
   "execution_count": null,
   "id": "d9505992",
   "metadata": {},
   "outputs": [],
   "source": [
    "plot_bar_with_error_robust(df_petit, 'time_mean', 'time_std', 'Temps d’execució (s)', 'Conjunts Petits',\n",
    "                           'barplot_time_errorbars_petit.png')\n",
    "plot_bar_with_error_robust(df_mitja, 'time_mean', 'time_std', 'Temps d’execució (s)', 'Conjunts Mitjans',\n",
    "                           'barplot_time_errorbars_mitja.png')\n",
    "plot_bar_with_error_robust(df_gran, 'time_mean', 'time_std', 'Temps d’execució (s)', 'Conjunts Grans',\n",
    "                           'barplot_time_errorbars_gran.png')"
   ]
  },
  {
   "cell_type": "code",
   "execution_count": null,
   "id": "9b4230c5",
   "metadata": {},
   "outputs": [],
   "source": [
    "subset_mitja = df_all[df_all['size_group'] == 'Mitjà']\n",
    "plt.figure(figsize=(10, 6))\n",
    "sns.boxplot(data=subset_mitja, x='method', y='fitness')\n",
    "plt.title('Mitjà: Distribució del Fitness per Mètode')\n",
    "plt.xlabel('Mètode d’imputació')\n",
    "plt.ylabel('Fitness')\n",
    "plt.grid(axis='y')\n",
    "plt.tight_layout()\n",
    "plt.savefig(\"figures/boxplot_fitness_mitja.png\", dpi=300, bbox_inches=\"tight\")\n",
    "plt.show()"
   ]
  },
  {
   "cell_type": "code",
   "execution_count": null,
   "id": "bd1d15d7",
   "metadata": {},
   "outputs": [],
   "source": [
    "plt.figure(figsize=(10, 6))\n",
    "sns.scatterplot(data=subset_mitja, x='time_sec', y='fitness', hue='method', style='method')\n",
    "plt.title('Mitjà: Temps vs Fitness per Mètode')\n",
    "plt.xlabel('Temps d’execució (s)')\n",
    "plt.ylabel('Fitness')\n",
    "plt.grid(True)\n",
    "plt.tight_layout()\n",
    "plt.savefig(\"figures/scatter_time_vs_fitness_mitja.png\", dpi=300, bbox_inches=\"tight\")\n",
    "plt.show()"
   ]
  }
 ],
 "metadata": {
  "kernelspec": {
   "display_name": "base",
   "language": "python",
   "name": "python3"
  },
  "language_info": {
   "codemirror_mode": {
    "name": "ipython",
    "version": 3
   },
   "file_extension": ".py",
   "mimetype": "text/x-python",
   "name": "python",
   "nbconvert_exporter": "python",
   "pygments_lexer": "ipython3",
   "version": "3.11.4"
  }
 },
 "nbformat": 4,
 "nbformat_minor": 5
}
