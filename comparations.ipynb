{
 "cells": [
  {
   "cell_type": "markdown",
   "id": "57361db7",
   "metadata": {},
   "source": [
    "# Comparativa de Métodos de Imputación\n",
    "Este notebook compara tu método de imputación (PSO) con métodos clásicos de imputación usando Python."
   ]
  },
  {
   "cell_type": "code",
   "execution_count": null,
   "id": "0c62ec5b",
   "metadata": {},
   "outputs": [],
   "source": [
    "\n",
    "import pandas as pd\n",
    "\n",
    "# Cargar datasets\n",
    "# Sustituye las rutas con las rutas reales\n",
    "df_original = pd.read_csv('ruta/a/dataset_original.csv')\n",
    "df_missing = pd.read_csv('ruta/a/dataset_con_missing.csv')\n",
    "df_pso = pd.read_csv('C:\\Users\\esthe\\OneDrive\\UPC\\Subjects\\TFG\\TFG-2025-Imputacio-Dades-Absents\\RESULTS\\out2\\out\\dataset_out\\test_0_rows_1000_columns_500_comp_0.5_input__p20_m30_c115_c215_w5_r5_i2_v20_imputed.csv')\n",
    "\n",
    "df_original.head()\n"
   ]
  },
  {
   "cell_type": "code",
   "execution_count": null,
   "id": "c002993f",
   "metadata": {},
   "outputs": [],
   "source": [
    "\n",
    "from sklearn.impute import SimpleImputer, KNNImputer\n",
    "from sklearn.experimental import enable_iterative_imputer\n",
    "from sklearn.impute import IterativeImputer\n",
    "\n",
    "# Imputación media\n",
    "mean_imputer = SimpleImputer(strategy='mean')\n",
    "df_mean = pd.DataFrame(mean_imputer.fit_transform(df_missing), columns=df_missing.columns)\n",
    "\n",
    "# Imputación KNN\n",
    "knn_imputer = KNNImputer(n_neighbors=5)\n",
    "df_knn = pd.DataFrame(knn_imputer.fit_transform(df_missing), columns=df_missing.columns)\n",
    "\n",
    "# Imputación MICE (IterativeImputer)\n",
    "iterative_imputer = IterativeImputer(random_state=0)\n",
    "df_iter = pd.DataFrame(iterative_imputer.fit_transform(df_missing), columns=df_missing.columns)\n"
   ]
  },
  {
   "cell_type": "code",
   "execution_count": null,
   "id": "3d8e3046",
   "metadata": {},
   "outputs": [],
   "source": [
    "\n",
    "from sklearn.metrics import mean_squared_error, mean_absolute_error\n",
    "import numpy as np\n",
    "\n",
    "def calcular_metricas(imputado, original, mascara_nan):\n",
    "    rmse = np.sqrt(mean_squared_error(original[mascara_nan], imputado[mascara_nan]))\n",
    "    mae = mean_absolute_error(original[mascara_nan], imputado[mascara_nan])\n",
    "    return rmse, mae\n",
    "\n",
    "# Crear máscara de valores originalmente ausentes\n",
    "mask = df_missing.isna()\n",
    "\n",
    "# Calcular métricas para cada método\n",
    "rmse_pso, mae_pso = calcular_metricas(df_pso, df_original, mask)\n",
    "rmse_mean, mae_mean = calcular_metricas(df_mean, df_original, mask)\n",
    "rmse_knn, mae_knn = calcular_metricas(df_knn, df_original, mask)\n",
    "rmse_iter, mae_iter = calcular_metricas(df_iter, df_original, mask)\n",
    "\n",
    "print(f\"PSO -> RMSE: {rmse_pso:.4f}, MAE: {mae_pso:.4f}\")\n",
    "print(f\"Mean -> RMSE: {rmse_mean:.4f}, MAE: {mae_mean:.4f}\")\n",
    "print(f\"KNN -> RMSE: {rmse_knn:.4f}, MAE: {mae_knn:.4f}\")\n",
    "print(f\"Iterative (MICE) -> RMSE: {rmse_iter:.4f}, MAE: {mae_iter:.4f}\")\n"
   ]
  },
  {
   "cell_type": "code",
   "execution_count": null,
   "id": "1bde120d",
   "metadata": {},
   "outputs": [],
   "source": [
    "\n",
    "import matplotlib.pyplot as plt\n",
    "\n",
    "# Comparar RMSE de cada método\n",
    "metodos = ['PSO', 'Mean', 'KNN', 'Iterative']\n",
    "rmse_vals = [rmse_pso, rmse_mean, rmse_knn, rmse_iter]\n",
    "\n",
    "plt.bar(metodos, rmse_vals)\n",
    "plt.title('Comparativa RMSE por método de imputación')\n",
    "plt.ylabel('RMSE')\n",
    "plt.show()\n"
   ]
  }
 ],
 "metadata": {
  "language_info": {
   "name": "python"
  }
 },
 "nbformat": 4,
 "nbformat_minor": 5
}
